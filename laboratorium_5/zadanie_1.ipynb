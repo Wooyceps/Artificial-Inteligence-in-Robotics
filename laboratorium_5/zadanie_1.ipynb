{
 "cells": [
  {
   "cell_type": "code",
   "execution_count": null,
   "metadata": {},
   "outputs": [],
   "source": [
    "import numpy as np\n",
    "import matplotlib.pyplot as plt\n",
    "from pymoo.algorithms.soo.nonconvex.ga import GA\n",
    "from pymoo.problems import get_problem\n",
    "from pymoo.optimize import minimize\n",
    "from pymoo.config import Config\n",
    "from pymoo.operators.crossover.sbx import SBX\n",
    "from pymoo.operators.mutation.pm import PolynomialMutation\n",
    "\n",
    "Config.warnings['not_compiled'] = False"
   ]
  },
  {
   "cell_type": "code",
   "execution_count": null,
   "metadata": {},
   "outputs": [],
   "source": [
    "# Problem optymalizacyjny z 15 zmiennymi\n",
    "problem = get_problem(\"griewank\", n_var=15)"
   ]
  },
  {
   "cell_type": "code",
   "execution_count": null,
   "metadata": {},
   "outputs": [],
   "source": [
    "# Poglądowy wykres funkcji Griewank'a dla dwóch zmiennych\n",
    "from pymoo.problems.single.griewank import Griewank\n",
    "\n",
    "# Definiowanie problemu\n",
    "problem_vis = Griewank()\n",
    "\n",
    "# Tworzenie siatki punktów\n",
    "x = np.linspace(-600, 600, 100)\n",
    "y = np.linspace(-600, 600, 100)\n",
    "x, y = np.meshgrid(x, y)\n",
    "\n",
    "# Obliczanie wartości funkcji dla każdego punktu\n",
    "z = np.array([problem_vis.evaluate(np.array([xi, yi]))[0] for xi, yi in zip(np.ravel(x), np.ravel(y))])\n",
    "z = z.reshape(x.shape)\n",
    "\n",
    "# Tworzenie wykresu\n",
    "fig = plt.figure()\n",
    "ax = fig.add_subplot(111, projection='3d')\n",
    "ax.plot_surface(x, y, z, cmap='viridis')\n",
    "\n",
    "# Ustawianie etykiet osi\n",
    "ax.set_xlabel('X')\n",
    "ax.set_ylabel('Y')\n",
    "ax.set_zlabel('Z')\n",
    "\n",
    "# Dodawanie tytułu\n",
    "ax.set_title('Wykres funkcji Griewanka dal dwóch zmiennych')\n",
    "\n",
    "# Wyświetlanie wykresu\n",
    "plt.show()"
   ]
  },
  {
   "cell_type": "code",
   "execution_count": null,
   "metadata": {
    "collapsed": false
   },
   "outputs": [],
   "source": [
    "# Definiowanie algorytmu genetycznego\n",
    "algorithm = GA(\n",
    "    pop_size=100,\n",
    "    crossover=SBX(prob=0.8, eta=1),\n",
    "    mutation=PolynomialMutation(prob=0.001, eta=5)\n",
    ")\n",
    "# Uruchamianie algorytmu genetycznego\n",
    "res = minimize(\n",
    "    problem,\n",
    "    algorithm,\n",
    "    ('n_gen', 10),\n",
    "    save_history=True,\n",
    "    verbose=True\n",
    ")"
   ]
  },
  {
   "cell_type": "code",
   "outputs": [],
   "source": [
    "# Wyświetlanie optymalnego znalezionego rozwiązania\n",
    "print(\"Najlepsze znalezione rozwiązanie:\\nX -> zmienne decyzyjne\\nF -> optymalna wartość funkcji\\nX = %s\\nF = %s\" % (res.X, res.F))"
   ],
   "metadata": {},
   "execution_count": null
  },
  {
   "cell_type": "code",
   "execution_count": null,
   "metadata": {},
   "outputs": [],
   "source": [
    "hist = res.history\n",
    "n_evals = []\n",
    "hist_F = []\n",
    "\n",
    "for algo in hist:\n",
    "    n_evals.append(algo.evaluator.n_eval)\n",
    "    opt = algo.opt\n",
    "    feas = np.where(opt.get(\"feasible\"))[0]\n",
    "    hist_F.append(opt.get(\"F\")[feas])"
   ]
  },
  {
   "cell_type": "code",
   "execution_count": null,
   "metadata": {},
   "outputs": [],
   "source": [
    "# Wyznaczanie wykresu zbieżności\n",
    "plt.figure()\n",
    "plt.plot(n_evals, np.reshape(hist_F, (10, 1)))\n",
    "plt.xlabel('Ilość ewaluacji funkcji')\n",
    "plt.ylabel('Wartość funkcji celu')\n",
    "plt.title('Wykres zbieżności algorytmu genetycznego')\n",
    "plt.grid(True)\n",
    "plt.show()"
   ]
  }
 ],
 "metadata": {
  "kernelspec": {
   "display_name": "Python 3",
   "language": "python",
   "name": "python3"
  },
  "language_info": {
   "codemirror_mode": {
    "name": "ipython",
    "version": 3
   },
   "file_extension": ".py",
   "mimetype": "text/x-python",
   "name": "python",
   "nbconvert_exporter": "python",
   "pygments_lexer": "ipython3",
   "version": "3.12.0"
  }
 },
 "nbformat": 4,
 "nbformat_minor": 2
}
