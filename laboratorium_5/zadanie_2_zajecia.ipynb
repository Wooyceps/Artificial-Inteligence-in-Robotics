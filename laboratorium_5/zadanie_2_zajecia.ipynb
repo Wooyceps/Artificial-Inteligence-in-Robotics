{
 "cells": [
  {
   "cell_type": "code",
   "outputs": [],
   "source": [
    "# LABORATORIUM 5 - ZADANIE 2 (na ocenę 5)\n",
    "# IMIĘ i NAZWISKO: MICHAŁ WÓJCIK"
   ],
   "metadata": {
    "collapsed": false
   }
  },
  {
   "cell_type": "code",
   "execution_count": 76,
   "metadata": {
    "collapsed": false,
    "ExecuteTime": {
     "end_time": "2024-06-10T07:10:38.146346400Z",
     "start_time": "2024-06-10T07:10:38.104331100Z"
    }
   },
   "outputs": [],
   "source": [
    "import numpy as np\n",
    "import matplotlib.pyplot as plt\n",
    "from pymoo.algorithms.soo.nonconvex.pso import PSO\n",
    "from pymoo.core.problem import Problem\n",
    "from pymoo.optimize import minimize\n",
    "from pymoo.core.callback import Callback"
   ]
  },
  {
   "cell_type": "code",
   "outputs": [],
   "source": [
    "# Klasa problemu Levy z określonymi parametrami oraz wzorem\n",
    "class Levy(Problem):\n",
    "    def __init__(self, n_var=10):\n",
    "         super().__init__(n_var=n_var, n_obj=1, xl=-10, xu=10, type_var=np.double)\n",
    "        \n",
    "    def _evaluate(self, X, out, *args, **kwargs):\n",
    "        w = 1 + (X - 1) / 4\n",
    "    \n",
    "        term1 = np.sin(np.pi * w[:, 0]) ** 2\n",
    "        term2 = np.sum((w[:, :-1] - 1) ** 2 * (1 + 10 * np.sin(np.pi * w[:, :-1] + 1) ** 2), axis=1)\n",
    "        term3 = (w[:, -1] - 1) ** 2 * (1 + np.sin(2 * np.pi * w[:, -1]) ** 2)\n",
    "    \n",
    "        out[\"F\"] = term1 + term2 + term3"
   ],
   "metadata": {
    "collapsed": false,
    "ExecuteTime": {
     "end_time": "2024-06-10T07:10:38.147419600Z",
     "start_time": "2024-06-10T07:10:38.119297400Z"
    }
   },
   "execution_count": 77
  },
  {
   "cell_type": "code",
   "outputs": [],
   "source": [
    "# Callback do przechowywanie historii\n",
    "class MyCallback(Callback):\n",
    "    def __init__(self):\n",
    "        super().__init__()\n",
    "        self.history = []\n",
    "\n",
    "    def notify(self, algorithm):\n",
    "        self.history.append(algorithm.pop.get(\"F\").min())\n",
    "    \n",
    "callback = MyCallback()"
   ],
   "metadata": {
    "collapsed": false,
    "ExecuteTime": {
     "end_time": "2024-06-10T07:10:38.176634100Z",
     "start_time": "2024-06-10T07:10:38.153925700Z"
    }
   },
   "execution_count": 78
  },
  {
   "cell_type": "code",
   "outputs": [
    {
     "name": "stdout",
     "output_type": "stream",
     "text": [
      "======================================================================================================\n",
      "n_gen  |  n_eval  |    f     |    S    |    w    |    c1    |    c2    |     f_avg     |     f_min    \n",
      "======================================================================================================\n",
      "     1 |      100 |        - |       - |  0.5000 |  1.50000 |  1.50000 |  1.200783E+02 |  2.634292E+01\n",
      "     2 |      200 |  0.10196 |       3 |  0.4650 |  1.53319 |  1.53319 |  6.664096E+01 |  1.537721E+01\n",
      "     3 |      300 |  0.13143 |       3 |  0.4841 |  1.57074 |  1.57074 |  3.254537E+01 |  6.7089786434\n",
      "     4 |      400 |  0.16322 |       3 |  0.5047 |  1.60226 |  1.60226 |  1.557382E+01 |  3.0407856025\n",
      "     5 |      500 | -6.8E-03 |       3 |  0.3957 |  1.64065 |  1.64065 |  9.1982567327 |  1.5697336336\n",
      "     6 |      600 | -1.1E-02 |       3 |  0.3933 |  1.66786 |  1.66786 |  4.4393080076 |  0.8282073117\n",
      "     7 |      700 | -9.3E-03 |       3 |  0.3942 |  1.69351 |  1.69351 |  3.4285770586 |  0.7860540071\n",
      "     8 |      800 | -8.7E-03 |       3 |  0.3946 |  1.72893 |  1.72893 |  2.4569116723 |  0.5485373007\n",
      "     9 |      900 |  0.01959 |       3 |  0.4123 |  1.77608 |  1.77608 |  1.9373174572 |  0.3709738756\n",
      "    10 |     1000 | -7.3E-03 |       3 |  0.3954 |  1.82461 |  1.82461 |  1.5106096521 |  0.3049645113\n",
      "    11 |     1100 | -6.7E-03 |       3 |  0.3958 |  1.87121 |  1.87121 |  1.3008273620 |  0.3049645113\n",
      "    12 |     1200 | -7.6E-03 |       3 |  0.3953 |  1.90173 |  1.90173 |  1.0586146435 |  0.3049645113\n",
      "    13 |     1300 | -1.4E-03 |       3 |  0.3991 |  1.93292 |  1.93292 |  0.8359261806 |  0.1519180293\n",
      "    14 |     1400 | -5.0E-03 |       3 |  0.3969 |  1.97133 |  1.97133 |  0.6507450652 |  0.1519180293\n",
      "    15 |     1500 | -4.2E-03 |       3 |  0.3974 |  2.00000 |  2.01010 |  0.5458981381 |  0.1282733360\n",
      "    16 |     1600 |  0.01462 |       3 |  0.4092 |  1.99503 |  2.02052 |  0.4658566808 |  0.0885417435\n",
      "    17 |     1700 |  0.08246 |       3 |  0.4524 |  1.98748 |  2.03017 |  0.4233989331 |  0.0885417435\n",
      "    18 |     1800 |  0.04181 |       3 |  0.4263 |  1.97921 |  2.04708 |  0.3670945866 |  0.0743507998\n",
      "    19 |     1900 |  0.02484 |       3 |  0.4156 |  1.96698 |  2.06036 |  0.3230038274 |  0.0598105700\n",
      "    20 |     2000 | -6.7E-03 |       3 |  0.3958 |  1.95471 |  2.07572 |  0.2919162511 |  0.0330027661\n",
      "    21 |     2100 |  0.04545 |       3 |  0.4287 |  1.94082 |  2.08127 |  0.2573152974 |  0.0330027661\n",
      "    22 |     2200 |  0.02759 |       3 |  0.4173 |  1.93178 |  2.09712 |  0.2211697566 |  0.0330027661\n",
      "    23 |     2300 |  0.01628 |       3 |  0.4102 |  1.91940 |  2.10591 |  0.2009607237 |  0.0313040183\n",
      "    24 |     2400 |  0.00602 |       3 |  0.4038 |  1.90941 |  2.11948 |  0.1890661487 |  0.0232108156\n",
      "    25 |     2500 |  0.00535 |       3 |  0.4033 |  1.89783 |  2.12978 |  0.1706183817 |  0.0232108156\n",
      "    26 |     2600 |  0.00510 |       3 |  0.4032 |  1.88700 |  2.13889 |  0.1529700047 |  0.0232108156\n",
      "    27 |     2700 |  0.02041 |       3 |  0.4128 |  1.87652 |  2.14310 |  0.1356097712 |  0.0184560525\n",
      "    28 |     2800 | -5.5E-03 |       3 |  0.3966 |  1.86960 |  2.15221 |  0.1167445959 |  0.0122512439\n",
      "    29 |     2900 | -4.9E-03 |       3 |  0.3969 |  1.86157 |  2.15889 |  0.1075907504 |  0.0122512439\n",
      "    30 |     3000 | -4.7E-03 |       3 |  0.3971 |  1.85463 |  2.16760 |  0.0966315881 |  0.0122512439\n",
      "    31 |     3100 | -3.3E-03 |       3 |  0.3979 |  1.84776 |  2.17954 |  0.0880151148 |  0.0117783091\n",
      "    32 |     3200 |  0.00387 |       3 |  0.4024 |  1.83793 |  2.18518 |  0.0838543835 |  0.0076075645\n",
      "    33 |     3300 | -4.2E-03 |       3 |  0.3974 |  1.83084 |  2.19499 |  0.0759954461 |  0.0076075645\n",
      "    34 |     3400 | -4.0E-03 |       3 |  0.3975 |  1.82287 |  2.20443 |  0.0705741180 |  0.0076075645\n",
      "    35 |     3500 | -3.6E-03 |       3 |  0.3978 |  1.81339 |  2.20850 |  0.0648055859 |  0.0067524124\n",
      "    36 |     3600 | -3.3E-03 |       3 |  0.3980 |  1.80690 |  2.21566 |  0.0573705371 |  0.0067524124\n",
      "    37 |     3700 | -3.0E-03 |       3 |  0.3981 |  1.79958 |  2.21979 |  0.0525896351 |  0.0067524124\n",
      "    38 |     3800 | -2.6E-03 |       3 |  0.3984 |  1.79460 |  2.22777 |  0.0453876145 |  0.0044052181\n",
      "    39 |     3900 | -2.5E-03 |       3 |  0.3985 |  1.78732 |  2.23067 |  0.0422348316 |  0.0039541867\n",
      "    40 |     4000 |  0.01546 |       3 |  0.4097 |  1.78247 |  2.23614 |  0.0394193671 |  0.0039541867\n",
      "    41 |     4100 |  0.01295 |       3 |  0.4081 |  1.77824 |  2.24410 |  0.0367901059 |  0.0039541867\n",
      "    42 |     4200 |  0.02019 |       3 |  0.4127 |  1.77189 |  2.24873 |  0.0334339366 |  0.0029027950\n",
      "    43 |     4300 | -2.4E-03 |       3 |  0.3985 |  1.76793 |  2.25865 |  0.0313001716 |  0.0029027950\n",
      "    44 |     4400 | -2.4E-03 |       3 |  0.3985 |  1.76031 |  2.26271 |  0.0304054498 |  0.0022707336\n",
      "    45 |     4500 | -2.8E-03 |       3 |  0.3983 |  1.75618 |  2.27315 |  0.0264247766 |  0.0022707336\n",
      "    46 |     4600 | -2.6E-03 |       3 |  0.3984 |  1.74688 |  2.27371 |  0.0240655221 |  0.0018150988\n",
      "    47 |     4700 |  0.00596 |       3 |  0.4037 |  1.74415 |  2.28448 |  0.0223298128 |  0.0013517302\n",
      "    48 |     4800 |  0.00049 |       3 |  0.4003 |  1.73788 |  2.29176 |  0.0205299917 |  0.0013517302\n",
      "    49 |     4900 | -1.1E-03 |       3 |  0.3993 |  1.72901 |  2.29227 |  0.0197999285 |  0.0011655083\n",
      "    50 |     5000 |  0.00450 |       3 |  0.4028 |  1.72559 |  2.29985 |  0.0177245938 |  0.0005171333\n",
      "    51 |     5100 | -2.4E-03 |       3 |  0.3985 |  1.71896 |  2.30203 |  0.0159038393 |  0.0005171333\n",
      "    52 |     5200 | -2.1E-03 |       3 |  0.3987 |  1.71412 |  2.30502 |  0.0147477755 |  0.0005171333\n",
      "    53 |     5300 | -6.8E-04 |       3 |  0.3996 |  1.71300 |  2.31537 |  0.0124709053 |  0.0004089314\n",
      "    54 |     5400 | -9.9E-04 |       3 |  0.3994 |  1.70809 |  2.32246 |  0.0121187399 |  0.0004089314\n",
      "    55 |     5500 | -1.7E-03 |       3 |  0.3989 |  1.70022 |  2.32359 |  0.0109388346 |  0.0002974490\n",
      "    56 |     5600 |  0.00204 |       3 |  0.4013 |  1.69421 |  2.32440 |  0.0099918642 |  0.0002974490\n",
      "    57 |     5700 | -6.4E-04 |       3 |  0.3996 |  1.69205 |  2.33030 |  0.0093502219 |  0.0002974490\n",
      "    58 |     5800 | -8.3E-04 |       3 |  0.3995 |  1.68924 |  2.33663 |  0.0081779526 |  0.0002480435\n",
      "    59 |     5900 |  0.00035 |       3 |  0.4002 |  1.68427 |  2.33998 |  0.0074080273 |  0.0002480435\n",
      "    60 |     6000 |  0.00073 |       3 |  0.4005 |  1.68090 |  2.34542 |  0.0070181965 |  0.0001980811\n",
      "    61 |     6100 | -9.1E-04 |       3 |  0.3994 |  1.67754 |  2.35154 |  0.0063197308 |  0.0001980811\n",
      "    62 |     6200 | -2.2E-03 |       3 |  0.3986 |  1.67165 |  2.35361 |  0.0047336218 |  0.0000895450\n",
      "    63 |     6300 | -2.4E-03 |       3 |  0.3985 |  1.66871 |  2.35925 |  0.0044074903 |  0.0000895450\n",
      "    64 |     6400 | -2.2E-03 |       3 |  0.3986 |  1.66141 |  2.35754 |  0.0041826764 |  0.0000881797\n",
      "    65 |     6500 | -2.1E-03 |       3 |  0.3987 |  1.65795 |  2.35895 |  0.0039172053 |  0.0000615134\n",
      "    66 |     6600 | -1.9E-03 |       3 |  0.3988 |  1.65626 |  2.36261 |  0.0033614259 |  0.0000615134\n",
      "    67 |     6700 | -1.8E-03 |       3 |  0.3989 |  1.65642 |  2.37023 |  0.0032083440 |  0.0000615134\n",
      "    68 |     6800 | -1.5E-03 |       3 |  0.3991 |  1.65355 |  2.37522 |  0.0023748947 |  0.0000529389\n",
      "    69 |     6900 |  0.00176 |       3 |  0.4011 |  1.65007 |  2.37960 |  0.0022345191 |  0.0000399592\n",
      "    70 |     7000 | -3.6E-04 |       3 |  0.3998 |  1.64254 |  2.37699 |  0.0020684913 |  0.0000236977\n",
      "    71 |     7100 |  0.00126 |       3 |  0.4008 |  1.64090 |  2.38072 |  0.0019042515 |  0.0000236977\n",
      "    72 |     7200 | -3.6E-04 |       3 |  0.3998 |  1.63975 |  2.38578 |  0.0017701507 |  0.0000236977\n",
      "    73 |     7300 | -1.1E-03 |       3 |  0.3993 |  1.63717 |  2.38954 |  0.0016620004 |  0.0000236977\n",
      "    74 |     7400 | -1.1E-03 |       3 |  0.3993 |  1.63382 |  2.39217 |  0.0015932303 |  0.0000236977\n",
      "    75 |     7500 | -9.9E-04 |       3 |  0.3994 |  1.63085 |  2.39497 |  0.0014845345 |  0.0000218133\n",
      "    76 |     7600 |  0.00289 |       3 |  0.4018 |  1.62744 |  2.39680 |  0.0010540484 |  0.0000218133\n",
      "    77 |     7700 |  0.00127 |       3 |  0.4008 |  1.62544 |  2.40023 |  0.0009192761 |  0.0000181816\n",
      "    78 |     7800 |  0.00037 |       3 |  0.4002 |  1.62190 |  2.40146 |  0.0007931861 |  0.0000181816\n",
      "    79 |     7900 | -8.7E-04 |       3 |  0.3995 |  1.62047 |  2.40515 |  0.0007158597 |  0.0000172014\n",
      "    80 |     8000 | -9.1E-04 |       3 |  0.3994 |  1.61506 |  2.40323 |  0.0006486886 |  0.0000172014\n",
      "    81 |     8100 | -1.1E-03 |       3 |  0.3993 |  1.61488 |  2.40725 |  0.0006103073 |  0.0000146621\n",
      "    82 |     8200 | -7.1E-04 |       3 |  0.3996 |  1.61487 |  2.41230 |  0.0005669709 |  0.0000138779\n",
      "    83 |     8300 | -1.0E-03 |       3 |  0.3994 |  1.61089 |  2.41251 |  0.0004398483 |  0.0000138779\n",
      "    84 |     8400 | -9.7E-04 |       3 |  0.3994 |  1.60806 |  2.41341 |  0.0004189738 |  0.0000124275\n",
      "    85 |     8500 | -1.1E-03 |       3 |  0.3993 |  1.60637 |  2.41542 |  0.0002230119 |  0.0000124275\n",
      "    86 |     8600 | -1.0E-03 |       3 |  0.3994 |  1.60318 |  2.41526 |  0.0002099767 |  9.653913E-06\n",
      "    87 |     8700 | -1.0E-03 |       3 |  0.3994 |  1.60101 |  2.41578 |  0.0001948060 |  7.887697E-06\n",
      "    88 |     8800 |  0.00798 |       3 |  0.4050 |  1.60280 |  2.42145 |  0.0001877613 |  5.749444E-06\n",
      "    89 |     8900 | -9.3E-04 |       3 |  0.3994 |  1.59982 |  2.42182 |  0.0001712780 |  5.749444E-06\n",
      "    90 |     9000 | -8.9E-04 |       3 |  0.3994 |  1.60029 |  2.42638 |  0.0001675625 |  5.749444E-06\n",
      "    91 |     9100 | -8.7E-04 |       3 |  0.3995 |  1.59527 |  2.42420 |  0.0001649153 |  5.749444E-06\n",
      "    92 |     9200 | -7.5E-04 |       3 |  0.3995 |  1.59372 |  2.42536 |  0.0001623830 |  4.675804E-06\n",
      "    93 |     9300 | -1.1E-03 |       3 |  0.3993 |  1.59326 |  2.42785 |  0.0001067297 |  3.307530E-06\n",
      "    94 |     9400 |  0.00021 |       3 |  0.4001 |  1.59388 |  2.43208 |  0.0001045052 |  2.611755E-06\n",
      "    95 |     9500 | -8.6E-04 |       3 |  0.3995 |  1.59088 |  2.43215 |  0.0001024278 |  2.330544E-06\n",
      "    96 |     9600 | -9.2E-04 |       3 |  0.3994 |  1.58948 |  2.43377 |  0.0000998882 |  1.895484E-06\n",
      "    97 |     9700 | -8.7E-04 |       3 |  0.3995 |  1.58841 |  2.43578 |  0.0000903468 |  1.895484E-06\n",
      "    98 |     9800 | -7.8E-04 |       3 |  0.3995 |  1.58904 |  2.44007 |  0.0000825873 |  1.668516E-06\n",
      "    99 |     9900 | -5.3E-04 |       3 |  0.3997 |  1.58449 |  2.43823 |  0.0000760539 |  1.506504E-06\n",
      "   100 |    10000 | -5.2E-04 |       3 |  0.3997 |  1.58573 |  2.44285 |  0.0000683858 |  1.001072E-06\n",
      "   101 |    10100 | -4.9E-04 |       3 |  0.3997 |  1.58140 |  2.44103 |  0.0000634963 |  6.845581E-07\n",
      "   102 |    10200 | -4.4E-04 |       3 |  0.3997 |  1.58221 |  2.44484 |  0.0000603525 |  6.461354E-07\n",
      "   103 |    10300 | -1.9E-03 |       3 |  0.3988 |  1.57932 |  2.44448 |  0.0000235426 |  6.461354E-07\n",
      "   104 |    10400 | -2.0E-03 |       3 |  0.3988 |  1.58011 |  2.44826 |  0.0000199808 |  6.461354E-07\n",
      "   105 |    10500 | -2.1E-03 |       3 |  0.3987 |  1.57536 |  2.44558 |  0.0000171515 |  6.235786E-07\n",
      "   106 |    10600 |  0.00074 |       3 |  0.4005 |  1.57490 |  2.44727 |  0.0000162399 |  6.235786E-07\n",
      "   107 |    10700 | -5.9E-04 |       3 |  0.3996 |  1.57173 |  2.44570 |  0.0000149178 |  5.358988E-07\n",
      "   108 |    10800 |  0.00178 |       3 |  0.4011 |  1.57259 |  2.44851 |  0.0000106002 |  4.955438E-07\n",
      "   109 |    10900 |  0.00146 |       3 |  0.4009 |  1.57211 |  2.45003 |  8.984918E-06 |  4.586576E-07\n",
      "   110 |    11000 |  0.00704 |       3 |  0.4044 |  1.57061 |  2.45036 |  8.472627E-06 |  4.491172E-07\n",
      "   111 |    11100 |  0.00265 |       3 |  0.4017 |  1.56815 |  2.44938 |  7.847405E-06 |  4.491172E-07\n",
      "   112 |    11200 |  0.00309 |       3 |  0.4019 |  1.56794 |  2.45070 |  7.250480E-06 |  3.319032E-07\n",
      "   113 |    11300 |  0.00563 |       3 |  0.4035 |  1.56901 |  2.45365 |  6.411904E-06 |  3.319032E-07\n",
      "   114 |    11400 |  0.00300 |       3 |  0.4019 |  1.56839 |  2.45492 |  5.780014E-06 |  3.319032E-07\n",
      "   115 |    11500 |  0.00226 |       3 |  0.4014 |  1.56555 |  2.45354 |  5.104709E-06 |  3.319032E-07\n",
      "   116 |    11600 |  0.00336 |       3 |  0.4021 |  1.56542 |  2.45495 |  4.426933E-06 |  2.842024E-07\n",
      "   117 |    11700 | -3.3E-03 |       3 |  0.3980 |  1.56915 |  2.45751 |  3.881222E-06 |  2.842024E-07\n",
      "   118 |    11800 | -3.0E-03 |       3 |  0.3982 |  1.57116 |  2.45630 |  3.515451E-06 |  1.577992E-07\n",
      "   119 |    11900 |  0.01074 |       3 |  0.4067 |  1.56744 |  2.45432 |  3.330532E-06 |  1.577992E-07\n",
      "   120 |    12000 |  0.00245 |       3 |  0.4015 |  1.56528 |  2.45360 |  2.997567E-06 |  1.577992E-07\n",
      "   121 |    12100 | -2.6E-03 |       3 |  0.3984 |  1.56904 |  2.45758 |  2.613371E-06 |  1.577992E-07\n",
      "   122 |    12200 | -2.4E-03 |       3 |  0.3985 |  1.56627 |  2.45654 |  2.472947E-06 |  1.379180E-07\n",
      "   123 |    12300 |  0.00459 |       3 |  0.4029 |  1.56484 |  2.45670 |  2.260608E-06 |  1.379180E-07\n",
      "   124 |    12400 |  0.00516 |       3 |  0.4032 |  1.56504 |  2.45862 |  2.111362E-06 |  1.064718E-07\n",
      "   125 |    12500 | -2.8E-03 |       3 |  0.3982 |  1.56964 |  2.45722 |  1.602747E-06 |  1.064718E-07\n",
      "   126 |    12600 | -2.7E-03 |       3 |  0.3983 |  1.56487 |  2.45386 |  1.485831E-06 |  1.064718E-07\n",
      "   127 |    12700 | -2.5E-03 |       3 |  0.3984 |  1.56681 |  2.45768 |  1.409795E-06 |  1.064718E-07\n",
      "   128 |    12800 | -2.4E-03 |       3 |  0.3985 |  1.56623 |  2.45899 |  1.313494E-06 |  7.312833E-08\n",
      "   129 |    12900 | -1.1E-03 |       3 |  0.3993 |  1.56230 |  2.45635 |  1.207456E-06 |  7.312833E-08\n",
      "   130 |    13000 | -1.5E-03 |       3 |  0.3991 |  1.56271 |  2.45821 |  1.135637E-06 |  3.483825E-08\n",
      "   131 |    13100 | -2.0E-03 |       3 |  0.3988 |  1.56240 |  2.45937 |  1.061715E-06 |  3.062534E-08\n"
     ]
    }
   ],
   "source": [
    "pop_size, w, c1, c2 = 100, 0.5, 1.5, 1.5\n",
    "\n",
    "algorithm = PSO(pop_size=pop_size,\n",
    "                w=w,\n",
    "                c1=c1,\n",
    "                c2=c2)\n",
    "res = minimize(Levy(),\n",
    "               algorithm,\n",
    "               seed=1,\n",
    "               callback=callback,\n",
    "               verbose=True)"
   ],
   "metadata": {
    "ExecuteTime": {
     "end_time": "2024-06-10T07:10:39.977727500Z",
     "start_time": "2024-06-10T07:10:38.182100100Z"
    }
   },
   "execution_count": 79
  },
  {
   "cell_type": "code",
   "outputs": [
    {
     "name": "stdout",
     "output_type": "stream",
     "text": [
      "Optymalne rozwiązanie dla konfiguracji pop_size=100, w=0.5, c1=1.5, c2=1.5: \n",
      "X = [0.99998609 0.99991656 1.00000187 0.99989982 1.00007781 1.00002002\n",
      " 0.99994103 1.00000275 1.00004375 1.00050336]\n",
      "F = [3.06253402e-08]\n"
     ]
    }
   ],
   "source": [
    "print(f\"Optymalne rozwiązanie dla konfiguracji pop_size={pop_size}, w={w}, c1={c1}, c2={c2}: \\nX = %s\\nF = %s\" % (res.X, res.F))"
   ],
   "metadata": {
    "collapsed": false,
    "ExecuteTime": {
     "end_time": "2024-06-10T07:10:40.010474300Z",
     "start_time": "2024-06-10T07:10:39.979939400Z"
    }
   },
   "execution_count": 80
  },
  {
   "cell_type": "code",
   "execution_count": 81,
   "metadata": {
    "ExecuteTime": {
     "end_time": "2024-06-10T07:10:40.179804800Z",
     "start_time": "2024-06-10T07:10:39.995869100Z"
    }
   },
   "outputs": [
    {
     "data": {
      "text/plain": "<Figure size 1200x600 with 1 Axes>",
      "image/png": "[encoded data removed]"
     },
     "metadata": {},
     "output_type": "display_data"
    }
   ],
   "source": [
    "# Wyznaczanie wykresu zbieżności\n",
    "plt.figure(figsize=(12, 6))\n",
    "plt.plot(callback.history)\n",
    "plt.title(f\"Konfiguracja: pop_size={pop_size}, w={w}, c1={c1}, c2={c2}\")\n",
    "plt.xlabel(\"Iteracje\")\n",
    "plt.ylabel(\"Wartość funkcji celu\")\n",
    "plt.show()"
   ]
  }
 ],
 "metadata": {
  "kernelspec": {
   "display_name": "Python 3",
   "language": "python",
   "name": "python3"
  },
  "language_info": {
   "codemirror_mode": {
    "name": "ipython",
    "version": 3
   },
   "file_extension": ".py",
   "mimetype": "text/x-python",
   "name": "python",
   "nbconvert_exporter": "python",
   "pygments_lexer": "ipython3",
   "version": "3.12.3"
  }
 },
 "nbformat": 4,
 "nbformat_minor": 2
}
