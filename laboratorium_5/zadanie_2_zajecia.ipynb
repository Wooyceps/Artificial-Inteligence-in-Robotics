{
 "cells": [
  {
   "cell_type": "code",
   "outputs": [],
   "source": [
    "# LABORATORIUM 5 - ZADANIE 2 (na ocenę 5)\n",
    "# IMIĘ i NAZWISKO: MICHAŁ WÓJCIK"
   ],
   "metadata": {
    "collapsed": false
   }
  },
  {
   "cell_type": "code",
   "execution_count": null,
   "metadata": {
    "collapsed": false
   },
   "outputs": [],
   "source": [
    "import numpy as np\n",
    "import matplotlib.pyplot as plt\n",
    "from pymoo.algorithms.soo.nonconvex.pso import PSO\n",
    "from pymoo.core.problem import Problem\n",
    "from pymoo.optimize import minimize\n",
    "from pymoo.core.callback import Callback"
   ]
  },
  {
   "cell_type": "code",
   "outputs": [],
   "source": [
    "# Klasa problemu Levy z określonymi parametrami oraz wzorem\n",
    "class Levy(Problem):\n",
    "    def __init__(self, n_var=10):\n",
    "         super().__init__(n_var=n_var, n_obj=1, xl=-10, xu=10, type_var=np.double)\n",
    "        \n",
    "    def _evaluate(self, X, out, *args, **kwargs):\n",
    "        w = 1 + (X - 1) / 4\n",
    "    \n",
    "        term1 = np.sin(np.pi * w[:, 0]) ** 2\n",
    "        term2 = np.sum((w[:, :-1] - 1) ** 2 * (1 + 10 * np.sin(np.pi * w[:, :-1] + 1) ** 2), axis=1)\n",
    "        term3 = (w[:, -1] - 1) ** 2 * (1 + np.sin(2 * np.pi * w[:, -1]) ** 2)\n",
    "    \n",
    "        out[\"F\"] = term1 + term2 + term3"
   ],
   "metadata": {
    "collapsed": false
   },
   "execution_count": null
  },
  {
   "cell_type": "code",
   "outputs": [],
   "source": [
    "# Callback do przechowywanie historii\n",
    "class MyCallback(Callback):\n",
    "    def __init__(self):\n",
    "        super().__init__()\n",
    "        self.history = []\n",
    "\n",
    "    def notify(self, algorithm):\n",
    "        self.history.append(algorithm.pop.get(\"F\").min())\n",
    "    \n",
    "callback = MyCallback()"
   ],
   "metadata": {
    "collapsed": false
   },
   "execution_count": null
  },
  {
   "cell_type": "code",
   "outputs": [],
   "source": [
    "pop_size, w, c1, c2 = 100, 0.5, 1.5, 1.5\n",
    "\n",
    "algorithm = PSO(pop_size=pop_size,\n",
    "                w=w,\n",
    "                c1=c1,\n",
    "                c2=c2)\n",
    "res = minimize(Levy(),\n",
    "               algorithm,\n",
    "               seed=1,\n",
    "               callback=callback,\n",
    "               verbose=True)"
   ],
   "metadata": {},
   "execution_count": null
  },
  {
   "cell_type": "code",
   "outputs": [],
   "source": [
    "print(f\"Optymalne rozwiązanie dla konfiguracji pop_size={pop_size}, w={w}, c1={c1}, c2={c2}: \\nX = %s\\nF = %s\" % (res.X, res.F))"
   ],
   "metadata": {
    "collapsed": false
   },
   "execution_count": null
  },
  {
   "cell_type": "code",
   "execution_count": null,
   "metadata": {},
   "outputs": [],
   "source": [
    "# Wyznaczanie wykresu zbieżności\n",
    "plt.figure(figsize=(12, 6))\n",
    "plt.plot(callback.history)\n",
    "plt.title(f\"Konfiguracja: pop_size={pop_size}, w={w}, c1={c1}, c2={c2}\")\n",
    "plt.xlabel(\"Iteracje\")\n",
    "plt.ylabel(\"Wartość funkcji celu\")\n",
    "plt.show()"
   ]
  }
 ],
 "metadata": {
  "kernelspec": {
   "display_name": "Python 3",
   "language": "python",
   "name": "python3"
  },
  "language_info": {
   "codemirror_mode": {
    "name": "ipython",
    "version": 3
   },
   "file_extension": ".py",
   "mimetype": "text/x-python",
   "name": "python",
   "nbconvert_exporter": "python",
   "pygments_lexer": "ipython3",
   "version": "3.12.3"
  }
 },
 "nbformat": 4,
 "nbformat_minor": 2
}
