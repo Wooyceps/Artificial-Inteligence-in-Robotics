{
 "cells": [
  {
   "cell_type": "code",
   "outputs": [],
   "source": [
    "# LABORATORIUM 2 - ZADANIE 2\n",
    "# IMIĘ i NAZWISKO: MICHAŁ WÓJCIK"
   ],
   "metadata": {
    "collapsed": false
   },
   "id": "ae1a2f30433f31ce"
  },
  {
   "cell_type": "code",
   "execution_count": null,
   "id": "initial_id",
   "metadata": {
    "collapsed": true
   },
   "outputs": [],
   "source": [
    "import sys\n",
    "import numpy as np\n",
    "import tensorflow as tf\n",
    "from tensorflow.keras.models import Sequential\n",
    "from tensorflow.keras.layers import Dense\n",
    "from tensorflow.keras.optimizers import Adam\n",
    "import matplotlib.pyplot as plt"
   ]
  },
  {
   "cell_type": "code",
   "outputs": [],
   "source": [
    "def make_neural_network(first_layer=5, second_layer=5, first_func='tanh', second_func='tanh',):\n",
    "    model = Sequential()\n",
    "    model.add(Dense(first_layer, activation=first_func))\n",
    "    model.add(Dense(second_layer, activation=second_func))\n",
    "    model.add(Dense(1, activation='linear'))\n",
    "    return model"
   ],
   "metadata": {
    "collapsed": false
   },
   "id": "68bf9906ee559eea",
   "execution_count": null
  },
  {
   "cell_type": "code",
   "outputs": [],
   "source": [
    "NoS = 150"
   ],
   "metadata": {
    "collapsed": false
   },
   "id": "c4a074c08f03ce47",
   "execution_count": null
  },
  {
   "cell_type": "code",
   "outputs": [],
   "source": [
    "X = np.random.uniform(0, 2 * np.pi, size=(NoS, 1))\n",
    "Y = np.sin(X) + np.random.normal(0, 0.3, size=(NoS, 1))"
   ],
   "metadata": {
    "collapsed": false
   },
   "id": "3a52ed52a92d644b",
   "execution_count": null
  },
  {
   "cell_type": "code",
   "outputs": [],
   "source": [
    "plt.figure()\n",
    "plt.plot(X, Y, 'bo')\n",
    "plt.xlabel('X')\n",
    "plt.ylabel('Y')\n",
    "plt.title('Y = sin(X) + N(0, 0.3)')\n",
    "plt.legend('Y = f(x)')\n",
    "plt.show()"
   ],
   "metadata": {
    "collapsed": false
   },
   "id": "6ab6315e3f23e494",
   "execution_count": null
  },
  {
   "cell_type": "code",
   "outputs": [],
   "source": [
    "model1 = make_neural_network(5, 5, 'tanh', 'tanh')\n",
    "model2 = make_neural_network(5, 5, 'sigmoid', 'sigmoid')\n",
    "model3 = make_neural_network(5, 5, 'relu', 'relu')"
   ],
   "metadata": {
    "collapsed": false
   },
   "id": "ba7d4fa194229373",
   "execution_count": null
  },
  {
   "cell_type": "code",
   "outputs": [],
   "source": [
    "optim1 = Adam(learning_rate=0.01,           # trzy \"optimizery\" stworzone w celu zażegnania błędu, który mówił że każdy model powinien mieć osobny\n",
    "             beta_1=0.9,\n",
    "             beta_2=0.999,\n",
    "             epsilon=1e-07)\n",
    "optim2 = Adam(learning_rate=0.01,\n",
    "             beta_1=0.9,\n",
    "             beta_2=0.999,\n",
    "             epsilon=1e-07)\n",
    "optim3 = Adam(learning_rate=0.01,\n",
    "             beta_1=0.9,\n",
    "             beta_2=0.999,\n",
    "             epsilon=1e-07)\n",
    "\n",
    "model1.compile(optimizer=optim1, loss='mean_squared_error', metrics=['mean_squared_error'])\n",
    "model2.compile(optimizer=optim2, loss='mean_squared_error', metrics=['mean_squared_error'])\n",
    "model3.compile(optimizer=optim3, loss='mean_squared_error', metrics=['mean_squared_error'])"
   ],
   "metadata": {
    "collapsed": false
   },
   "id": "906fc8cf05042555",
   "execution_count": null
  },
  {
   "cell_type": "code",
   "outputs": [],
   "source": [
    "hist1 = model1.fit(X, Y, epochs=250, verbose=1, batch_size=150, validation_split=0.2)\n",
    "hist2 = model2.fit(X, Y, epochs=250, verbose=1, batch_size=150, validation_split=0.2)\n",
    "hist3 = model3.fit(X, Y, epochs=250, verbose=1, batch_size=150, validation_split=0.2)\n",
    "\n",
    "# na zajęciach występowały problemy w modelu z funkcją sigmoid"
   ],
   "metadata": {
    "collapsed": false
   },
   "id": "eb18ea017e2b9b7e",
   "execution_count": null
  },
  {
   "cell_type": "code",
   "outputs": [],
   "source": [
    "plt.figure()\n",
    "plt.plot(hist1.history['loss'], '-g', label='loss')\n",
    "plt.plot(hist1.history['val_loss'], '-r', label='val_loss')\n",
    "plt.title('model1 loss')\n",
    "plt.ylabel('loss, val_loss')\n",
    "plt.xlabel('epoch')\n",
    "plt.legend(['loss', 'val_loss'])\n",
    "\n",
    "plt.figure()\n",
    "plt.plot(hist2.history['loss'], '-g', label='loss')\n",
    "plt.plot(hist2.history['val_loss'], '-r', label='val_loss')\n",
    "plt.title('model2 loss')\n",
    "plt.ylabel('loss, val_loss')\n",
    "plt.xlabel('epoch')\n",
    "plt.legend(['loss', 'val_loss'])\n",
    "\n",
    "plt.figure()\n",
    "plt.plot(hist3.history['loss'], '-g', label='loss')\n",
    "plt.plot(hist3.history['val_loss'], '-r', label='val_loss')\n",
    "plt.title('model3 loss')\n",
    "plt.ylabel('loss, val_loss')\n",
    "plt.xlabel('epoch')\n",
    "plt.legend(['loss', 'val_loss'])"
   ],
   "metadata": {
    "collapsed": false
   },
   "id": "3f504988923967ea",
   "execution_count": null
  },
  {
   "cell_type": "code",
   "outputs": [],
   "source": [
    "YPred1 = model1.predict(X)\n",
    "YPred2 = model2.predict(X)\n",
    "YPred3 = model3.predict(X)"
   ],
   "metadata": {
    "collapsed": false
   },
   "id": "3e44f33c58ca5f19",
   "execution_count": null
  },
  {
   "cell_type": "code",
   "outputs": [],
   "source": [
    "plt.figure()\n",
    "plt.plot(X, Y, 'bo', label='Y')\n",
    "plt.plot(X, YPred1, 'r.', label='YPred1')\n",
    "plt.plot(X, YPred2, 'g.', label='YPred2')\n",
    "plt.plot(X, YPred3, 'y.', label='YPred3')\n",
    "plt.xlabel('X')\n",
    "plt.ylabel('Y, YPred1, YPred2, YPred3')\n",
    "plt.legend(['Y = f(x)', 'Model1 - tanh', 'Model2 - sigmoid', 'Model3 - relu'])"
   ],
   "metadata": {
    "collapsed": false
   },
   "id": "ab9754f10af3a4ea",
   "execution_count": null
  },
  {
   "cell_type": "code",
   "outputs": [],
   "source": [
    "XTest = np.random.uniform(0, 2 * np.pi, size=(NoS, 1))\n",
    "YTest = np.sin(XTest) + np.random.normal(0, 0.3, size=(NoS, 1))"
   ],
   "metadata": {
    "collapsed": false
   },
   "id": "260fb1c4fcb2381",
   "execution_count": null
  },
  {
   "cell_type": "code",
   "outputs": [],
   "source": [
    "YTestPred1 = model1.predict(XTest)\n",
    "YTestPred2 = model2.predict(XTest)\n",
    "YTestPred3 = model3.predict(XTest)"
   ],
   "metadata": {
    "collapsed": false
   },
   "id": "3f68c2a7c85bd715",
   "execution_count": null
  },
  {
   "cell_type": "code",
   "outputs": [],
   "source": [
    "plt.figure()\n",
    "plt.plot(XTest, YTest, 'bo', label='Y')\n",
    "plt.plot(XTest, YTestPred1, 'r+', label='YPred1')\n",
    "plt.plot(XTest, YTestPred2, 'g+', label='YPred2')\n",
    "plt.plot(XTest, YTestPred3, 'y+', label='YPred3')\n",
    "plt.xlabel('X')\n",
    "plt.ylabel('Y')\n",
    "plt.title('Y = sin(X) + N(0, 0.3)')\n",
    "plt.legend(['Y = f(x)', 'Model1 - tanh', 'Model2 - sigmoid', 'Model3 - relu'])"
   ],
   "metadata": {
    "collapsed": false
   },
   "id": "26a0e2101a86045",
   "execution_count": null
  }
 ],
 "metadata": {
  "kernelspec": {
   "display_name": "Python 3",
   "language": "python",
   "name": "python3"
  },
  "language_info": {
   "codemirror_mode": {
    "name": "ipython",
    "version": 2
   },
   "file_extension": ".py",
   "mimetype": "text/x-python",
   "name": "python",
   "nbconvert_exporter": "python",
   "pygments_lexer": "ipython2",
   "version": "2.7.6"
  }
 },
 "nbformat": 4,
 "nbformat_minor": 5
}
