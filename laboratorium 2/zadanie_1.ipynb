{
 "cells": [
  {
   "cell_type": "code",
   "outputs": [],
   "source": [
    "# LABORATORIUM 2 - ZADANIE 1\n",
    "# IMIĘ i NAZWISKO: MICHAŁ WÓJCIK"
   ],
   "metadata": {
    "collapsed": false
   },
   "id": "c43fbe4a2e69b62a"
  },
  {
   "cell_type": "code",
   "execution_count": null,
   "id": "initial_id",
   "metadata": {
    "collapsed": true
   },
   "outputs": [],
   "source": [
    "import sys\n",
    "import numpy as np\n",
    "import tensorflow as tf\n",
    "from tensorflow.keras.models import Sequential\n",
    "from tensorflow.keras.layers import Dense\n",
    "from tensorflow.keras.optimizers import Adam\n",
    "import matplotlib.pyplot as plt\n",
    "# from keras.utils.vis_utils import plot_model"
   ]
  },
  {
   "cell_type": "code",
   "outputs": [],
   "source": [
    "NoS = 150"
   ],
   "metadata": {
    "collapsed": false
   },
   "id": "c24a77dba8a480f1",
   "execution_count": null
  },
  {
   "cell_type": "code",
   "outputs": [],
   "source": [
    "X = np.random.uniform(0, 2 * np.pi, size=(NoS, 1))\n",
    "Y = np.sin(X) + np.random.normal(0, 0.3, size=(NoS, 1))"
   ],
   "metadata": {
    "collapsed": false
   },
   "id": "c1d11966dd98a76c",
   "execution_count": null
  },
  {
   "cell_type": "code",
   "outputs": [],
   "source": [
    "plt.figure()\n",
    "plt.plot(X, Y, 'bo')\n",
    "plt.xlabel('X')\n",
    "plt.ylabel('Y')\n",
    "plt.title('Y = sin(X) + N(0, 0.3)')\n",
    "plt.legend('Y = f(x)')\n",
    "plt.show()"
   ],
   "metadata": {
    "collapsed": false
   },
   "id": "ad16bbd9092c316e",
   "execution_count": null
  },
  {
   "cell_type": "code",
   "outputs": [],
   "source": [
    "model = Sequential()\n",
    "model.add(Dense(5, activation='tanh'))\n",
    "model.add(Dense(5, activation='tanh'))\n",
    "model.add(Dense(1, activation='linear'))"
   ],
   "metadata": {
    "collapsed": false
   },
   "id": "5fb9bcd8eeb57085",
   "execution_count": null
  },
  {
   "cell_type": "code",
   "outputs": [],
   "source": [
    "optim = Adam(learning_rate=0.01,\n",
    "             beta_1=0.9,\n",
    "             beta_2=0.999,\n",
    "             epsilon=1e-07)\n",
    "model.compile(optimizer=optim, loss='mean_squared_error', metrics=['mean_squared_error'])"
   ],
   "metadata": {
    "collapsed": false
   },
   "id": "9b5592db25ade03c",
   "execution_count": null
  },
  {
   "cell_type": "code",
   "outputs": [],
   "source": [
    "hist = model.fit(X, Y, epochs=250, verbose=1, batch_size=150, validation_split=0.2)"
   ],
   "metadata": {
    "collapsed": false
   },
   "id": "b5d855e623e3fa91",
   "execution_count": null
  },
  {
   "cell_type": "code",
   "outputs": [],
   "source": [
    "plt.figure()\n",
    "plt.plot(hist.history['loss'], '-g', label='loss')\n",
    "plt.plot(hist.history['val_loss'], '-r', label='val_loss')\n",
    "plt.title('model loss')\n",
    "plt.ylabel('loss, val_loss')\n",
    "plt.xlabel('epoch')\n",
    "plt.legend(['loss', 'val_loss'])"
   ],
   "metadata": {
    "collapsed": false
   },
   "id": "a0210619db5aa857",
   "execution_count": null
  },
  {
   "cell_type": "code",
   "outputs": [],
   "source": [
    "YPred = model.predict(X)"
   ],
   "metadata": {
    "collapsed": false
   },
   "id": "4629917299259259",
   "execution_count": null
  },
  {
   "cell_type": "code",
   "outputs": [],
   "source": [
    "plt.figure()\n",
    "plt.plot(X, Y, 'bo', label='Y')\n",
    "plt.plot(X, YPred, 'r.', label='YPred')\n",
    "plt.xlabel('X')\n",
    "plt.ylabel('Y, YPred')"
   ],
   "metadata": {
    "collapsed": false
   },
   "id": "474d0284cdd08764",
   "execution_count": null
  },
  {
   "cell_type": "code",
   "outputs": [],
   "source": [
    "XTest = np.random.uniform(0, 2 * np.pi, size=(NoS, 1))\n",
    "YTest = np.sin(XTest) + np.random.normal(0, 0.3, size=(NoS, 1))"
   ],
   "metadata": {
    "collapsed": false
   },
   "id": "f9a67b470f09fdd2",
   "execution_count": null
  },
  {
   "cell_type": "code",
   "outputs": [],
   "source": [
    "YTestPred = model.predict(XTest)"
   ],
   "metadata": {
    "collapsed": false
   },
   "id": "33d048cee36dfa11",
   "execution_count": null
  },
  {
   "cell_type": "code",
   "outputs": [],
   "source": [
    "plt.figure()\n",
    "plt.plot(XTest, YTest, 'bo', label='Y')\n",
    "plt.plot(XTest, YTestPred, 'r+', label='YPred')\n",
    "plt.xlabel('X')\n",
    "plt.ylabel('Y')\n",
    "plt.title('Y = sin(X) + N(0, 0.3)')\n",
    "plt.legend(['Y = f(x)', 'Model 1 - tanh'])"
   ],
   "metadata": {
    "collapsed": false
   },
   "id": "a62b7f1efc0daeeb",
   "execution_count": null
  }
 ],
 "metadata": {
  "kernelspec": {
   "display_name": "Python 3",
   "language": "python",
   "name": "python3"
  },
  "language_info": {
   "codemirror_mode": {
    "name": "ipython",
    "version": 2
   },
   "file_extension": ".py",
   "mimetype": "text/x-python",
   "name": "python",
   "nbconvert_exporter": "python",
   "pygments_lexer": "ipython2",
   "version": "2.7.6"
  }
 },
 "nbformat": 4,
 "nbformat_minor": 5
}
