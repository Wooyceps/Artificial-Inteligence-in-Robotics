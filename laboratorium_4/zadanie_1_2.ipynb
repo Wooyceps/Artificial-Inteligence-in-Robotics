{
 "cells": [
  {
   "cell_type": "code",
   "outputs": [],
   "source": [
    "# LABORATORIUM 4 - ZADANIE 1\n",
    "# IMIĘ i NAZWISKO: MICHAŁ WÓJCIK"
   ],
   "metadata": {
    "collapsed": false
   },
   "id": "62b603e194a19f8",
   "execution_count": null
  },
  {
   "cell_type": "code",
   "outputs": [],
   "source": [
    "# Zaimportowanie niezbędnych bibliotek\n",
    "from tensorflow.keras.preprocessing.image import ImageDataGenerator, img_to_array, load_img\n",
    "from tensorflow.keras.models import Sequential\n",
    "from tensorflow.keras.layers import Conv2D, MaxPooling2D, Activation, Dropout, Flatten, Dense\n",
    "from tensorflow.keras import backend as K\n",
    "import matplotlib.pyplot as plt\n",
    "import numpy as np\n",
    "from sklearn.metrics import ConfusionMatrixDisplay, confusion_matrix, RocCurveDisplay, roc_curve\n",
    "\n",
    "# Ustawienie rozmiarów obrazów\n",
    "img_width, img_height = 224, 224"
   ],
   "metadata": {
    "collapsed": false
   },
   "id": "52e14ad09235fbe4",
   "execution_count": null
  },
  {
   "cell_type": "code",
   "outputs": [],
   "source": [
    "# Ustawienie ścieżek do folderów z danymi oraz ilosci próbek, epok i rozmiaru batcha\n",
    "train_data_dir_path = 'train'\n",
    "validation_data_dir_path = 'test'\n",
    "nb_train_samples =400\n",
    "nb_validation_samples = 100\n",
    "epochs = 10\n",
    "batch_size = 16"
   ],
   "metadata": {
    "collapsed": false
   },
   "id": "a47571d170dad157",
   "execution_count": null
  },
  {
   "cell_type": "code",
   "outputs": [],
   "source": [
    "# Ustawienie wymiarów wejściowych w zależności od formatu obrazu\n",
    "if K.image_data_format() == 'channels_first':\n",
    "    input_shape = (3, img_width, img_height)\n",
    "else: # channels_last\n",
    "    input_shape = (img_width, img_height, 3)"
   ],
   "metadata": {
    "collapsed": false
   },
   "id": "51649c4d60c2d6ac",
   "execution_count": null
  },
  {
   "cell_type": "code",
   "outputs": [],
   "source": [
    "# Stworzenie modelu konwolucyjnej sieci neuronowej (CNN)\n",
    "# Składa się z trzech bloków konwolucyjych, a każdy blok składa się z warstwy konwolucyjnej, warstwy aktywacji i warstwy pooling.\n",
    "model = Sequential()\n",
    "model.add(Conv2D(32, (2, 2), input_shape=input_shape))\n",
    "model.add(Activation('relu'))\n",
    "model.add(MaxPooling2D(pool_size=(2, 2)))\n",
    "\n",
    "model.add(Conv2D(32, (2, 2)))\n",
    "model.add(Activation('relu'))\n",
    "model.add(MaxPooling2D(pool_size=(2, 2)))\n",
    "\n",
    "model.add(Conv2D(64, (2, 2)))\n",
    "model.add(Activation('relu'))\n",
    "model.add(MaxPooling2D(pool_size=(2, 2)))\n",
    "\n",
    "model.add(Flatten())\n",
    "model.add(Dense(64))\n",
    "model.add(Activation('relu'))\n",
    "model.add(Dropout(0.5))\n",
    "model.add(Dense(1))\n",
    "model.add(Activation('sigmoid'))\n",
    "\n",
    "model.summary()"
   ],
   "metadata": {
    "collapsed": false
   },
   "id": "2e2af2dbb858046c",
   "execution_count": null
  },
  {
   "cell_type": "code",
   "outputs": [],
   "source": [
    "# Zbudowanie (kompilacja) modelu\n",
    "model.compile(loss='binary_crossentropy',\n",
    "\t\t\toptimizer='rmsprop',\n",
    "\t\t\tmetrics=['accuracy'])"
   ],
   "metadata": {
    "collapsed": false
   },
   "id": "2430f7b70f798a6c",
   "execution_count": null
  },
  {
   "cell_type": "code",
   "outputs": [],
   "source": [
    "# Augmentacja danych wejściowych - odbywa się dopiero w trakcie trenowania modelu\n",
    "train_data_generator = ImageDataGenerator(\n",
    "\trescale=1. / 255,\n",
    "\tshear_range=0.2,\n",
    "\tzoom_range=0.2,\n",
    "\thorizontal_flip=True)\n",
    "\n",
    "test_data_generator = ImageDataGenerator(rescale=1. / 255)\n",
    "\n",
    "train_generator = train_data_generator.flow_from_directory(\n",
    "\ttrain_data_dir_path,\n",
    "\ttarget_size=(img_width, img_height),\n",
    "\tbatch_size=batch_size,\n",
    "\tclass_mode='binary')\n",
    "\n",
    "validation_generator = test_data_generator.flow_from_directory(\n",
    "\tvalidation_data_dir_path,\n",
    "\ttarget_size=(img_width, img_height),\n",
    "\tbatch_size=batch_size,\n",
    "\tclass_mode='binary')\n",
    "\n",
    "# Trenowanie modelu\n",
    "model_history = model.fit(\n",
    "\ttrain_generator,\n",
    "\tsteps_per_epoch=nb_train_samples // batch_size,\n",
    "\tepochs=epochs,\n",
    "\tvalidation_data=validation_generator,\n",
    "\tvalidation_steps=nb_validation_samples // batch_size)"
   ],
   "metadata": {
    "collapsed": false
   },
   "id": "a79986aab2737e9c",
   "execution_count": null
  },
  {
   "cell_type": "code",
   "outputs": [],
   "source": [
    "# Wykres wartości funkcji straty dla zbioru treningowego i walidacyjnego\n",
    "plt.figure(constrained_layout=True)\n",
    "plt.plot(model_history.history['loss'], 'g')\n",
    "plt.plot(model_history.history['val_loss'], 'r')\n",
    "plt.title('model Loss')\n",
    "plt.ylabel('loss, val_loss')\n",
    "plt.xlabel('epoch')\n",
    "plt.legend(['loss', 'val_loss'])"
   ],
   "metadata": {
    "collapsed": false
   },
   "id": "2c934564e69a1edf",
   "execution_count": null
  },
  {
   "cell_type": "code",
   "outputs": [],
   "source": [
    "# Stworzenie tablic przechowujących wartości predykcji, wartości rzeczywistych i wyniku przewidywania\n",
    "predClass = []\n",
    "actClass = []\n",
    "predClassScore = []\n",
    "\n",
    "# Przewidywanie klas dla obrazów z folderu testowego\n",
    "for i in range(41, 51):\n",
    "\tactClass.append(0)\n",
    "\tprint('test/cars/' + str(i) + '.jpg')\n",
    "\timage = load_img('test/cars/' + str(i) + '.jpg', target_size=(224, 224))\n",
    "\timg = np.array(image)\n",
    "\timg = img / 255.0\n",
    "\timg = img.reshape(1, 224, 224, 3)\n",
    "\tlabel = model.predict(img)\n",
    "\t\n",
    "\tprint(\"Predicted Class (0 - Cars, 1 - Planes): \", label[0][0])\n",
    "\t\n",
    "\tif label[0][0] < 0.5:\n",
    "\t\tpredClass.append(0)\n",
    "\telse:\n",
    "\t\tpredClass.append(1)\n",
    "\t\t\n",
    "\tpredClassScore.append(label[0][0])\n",
    "\t\n",
    "for i in range(41, 51):\n",
    "\tactClass.append(1)\n",
    "\tprint('test/planes/' + str(i) + '.jpg')\n",
    "\timage = load_img('test/planes/' + str(i) + '.jpg', target_size=(224, 224))\n",
    "\timg = np.array(image)\n",
    "\timg = img / 255.0\n",
    "\timg = img.reshape(1, 224, 224, 3)\n",
    "\tlabel = model.predict(img)\n",
    "\t\n",
    "\tprint(\"Predicted Class (0 - Cars, 1 - Planes): \", label[0][0])\n",
    "\t\n",
    "\tif label[0][0] < 0.5:\n",
    "\t\tpredClass.append(0)\n",
    "\telse:\n",
    "\t\tpredClass.append(1)\n",
    "\t\t\n",
    "\tpredClassScore.append(label[0][0])"
   ],
   "metadata": {
    "collapsed": false
   },
   "id": "f2ff3e5a3ff892d5",
   "execution_count": null
  },
  {
   "cell_type": "code",
   "outputs": [],
   "source": [
    "# LABORATORIUM 4 - ZADANIE 2\n",
    "# IMIĘ i NAZWISKO: MICHAŁ WÓJCIK"
   ],
   "metadata": {
    "collapsed": false
   },
   "id": "b124bdd30f7b85c3",
   "execution_count": null
  },
  {
   "cell_type": "code",
   "outputs": [],
   "source": [
    "# Wyznaczanie macierzy konfuzji\n",
    "tn, fp, fn, tp = confusion_matrix(actClass, predClass).ravel()\n",
    "# tn - true negative, fp - false positive, fn - false negative, tp - true positive\n",
    "(tn, fp, fn, tp)"
   ],
   "metadata": {
    "collapsed": false
   },
   "id": "a03038cb9957207",
   "execution_count": null
  },
  {
   "cell_type": "code",
   "outputs": [],
   "source": [
    "# Wyświetlanie macierzy konfuzji\n",
    "ConfusionMatrixDisplay.from_predictions(actClass, predClass)"
   ],
   "metadata": {
    "collapsed": false
   },
   "id": "8ac80e923b73cda1",
   "execution_count": null
  },
  {
   "cell_type": "code",
   "outputs": [],
   "source": [
    "# Wyznaczanie i wyświetlanie krzywej ROC (sposob 1)\n",
    "RocCurveDisplay.from_predictions(actClass, predClassScore)"
   ],
   "metadata": {
    "collapsed": false
   },
   "id": "c1d07212347b6228",
   "execution_count": null
  },
  {
   "cell_type": "code",
   "outputs": [],
   "source": [
    "# Wyznaczanie i wyświetlanie krzywej ROC (sposób 2)\n",
    "fpr, tpr, thresholds = roc_curve(actClass, predClassScore)\n",
    "optimal_idx = np.argmin(np.abs(tpr[1:] - fpr[1:])) + 1\n",
    "optimal_threshold = thresholds[optimal_idx]\n",
    "print(\"Optymalny próg odcięcia: \", optimal_threshold)"
   ],
   "metadata": {
    "collapsed": false
   },
   "id": "c05820afa46817c7",
   "execution_count": null
  }
 ],
 "metadata": {
  "kernelspec": {
   "display_name": "Python 3",
   "language": "python",
   "name": "python3"
  },
  "language_info": {
   "codemirror_mode": {
    "name": "ipython",
    "version": 2
   },
   "file_extension": ".py",
   "mimetype": "text/x-python",
   "name": "python",
   "nbconvert_exporter": "python",
   "pygments_lexer": "ipython2",
   "version": "2.7.6"
  }
 },
 "nbformat": 4,
 "nbformat_minor": 5
}
