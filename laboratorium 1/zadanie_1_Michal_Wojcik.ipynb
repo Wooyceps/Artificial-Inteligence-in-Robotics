{
 "cells": [
  {
   "cell_type": "markdown",
   "source": [
    "LABORATORIUM 1 - ZADANIE 1\n",
    "IMIĘ i NAZWISKO: Michał Wójcik"
   ],
   "metadata": {
    "collapsed": false
   },
   "id": "d542ee78b42c974"
  },
  {
   "cell_type": "code",
   "outputs": [],
   "source": [
    "# Zaimportowanie bibliotek - 3\n",
    "import matplotlib.pyplot as plt\n",
    "import numpy as np\n",
    "import pandas as pd"
   ],
   "metadata": {
    "collapsed": true
   },
   "id": "initial_id",
   "execution_count": null
  },
  {
   "cell_type": "code",
   "outputs": [],
   "source": [
    "# Wczytanie pliku CSV - 4\n",
    "df = pd.read_csv('brush_teeth_16_2.csv', names=['Acc_X', 'Acc_Y', 'Acc_Z'])"
   ],
   "metadata": {
    "collapsed": false
   },
   "id": "15324d48e48a427f",
   "execution_count": null
  },
  {
   "cell_type": "code",
   "outputs": [],
   "source": [
    "# Przeskalowanie danych - 5\n",
    "df['Acc_X'] = df['Acc_X'] / 64\n",
    "df['Acc_Y'] = df['Acc_Y'] / 64\n",
    "df['Acc_Z'] = df['Acc_Z'] / 64\n",
    "\n",
    "# Wyświetlenie pierwszych 5 wierszy przeskalowanych danych\n",
    "print(df.head())"
   ],
   "metadata": {
    "collapsed": false
   },
   "id": "7a67a11a9a0401e",
   "execution_count": null
  },
  {
   "cell_type": "code",
   "outputs": [],
   "source": [
    "# Tworzenie nowej figury - 6\n",
    "plt.figure(figsize=(10,6))\n",
    "\n",
    "# Rysowanie wykresów dla każdej osi akcelerometru z dodatkowymi \"krzyżykami\" co jedną jednostkę\n",
    "plt.plot(df['Acc_X'], label='Acc_X', color='red', marker='x', markevery=1)\n",
    "plt.plot(df['Acc_Y'], label='Acc_Y', color='green', marker='x', markevery=1)\n",
    "plt.plot(df['Acc_Z'], label='Acc_Z', color='blue', marker='x', markevery=1)\n",
    "\n",
    "# Dodawanie tytułu i etykiet osi\n",
    "plt.title('brush_hair_22_4.csv')\n",
    "plt.xlabel('Nr próbki')\n",
    "plt.ylabel('Acc X, Y, Z')\n",
    "\n",
    "# Dodawanie legendy\n",
    "plt.legend()\n",
    "\n",
    "# Wyświetlanie wykresu\n",
    "plt.show()"
   ],
   "metadata": {
    "collapsed": false
   },
   "id": "56a05c2148576d8d",
   "execution_count": null
  },
  {
   "cell_type": "code",
   "outputs": [],
   "source": [
    "# Dodanie kolumny Acc będącej wartością wypadkową przyśpieszeń w osi X, Y i Z - 7\n",
    "df['Acc'] = np.sqrt(df['Acc_X']**2 + df['Acc_Y']**2 + df['Acc_Z']**2)\n",
    "\n",
    "# Wyświetlenie pierwszych 5 wierszy przeskalowanych danych z dodaną kolumną Acc\n",
    "print(df.head())"
   ],
   "metadata": {
    "collapsed": false
   },
   "id": "7b63ae2214e23715",
   "execution_count": null
  },
  {
   "cell_type": "code",
   "outputs": [],
   "source": [
    "# Tworzenie nowej figury - 8\n",
    "plt.figure(figsize=(10,6))\n",
    "\n",
    "# Rysowanie wykresu dla wypadkowej Acc z dodatkowymi \"krzyżykami\" co jedną jednostkę\n",
    "plt.plot(df['Acc'], label='Acc', color='black', marker='x', markevery=1)\n",
    "\n",
    "# Dodawanie tytułu i etykiet osi\n",
    "plt.title('brush_hair_22_4.csv')\n",
    "plt.xlabel('Nr próbki')\n",
    "plt.ylabel('|Acc|')\n",
    "\n",
    "# Dodawanie legendy\n",
    "plt.legend()\n",
    "\n",
    "# Wyświetlanie wykresu\n",
    "plt.show()"
   ],
   "metadata": {
    "collapsed": false
   },
   "id": "6bc9d0dc4a76059a",
   "execution_count": null
  },
  {
   "cell_type": "code",
   "outputs": [],
   "source": [
    "# Wyznaczanie wartości min, max, mean, median dla kolumny Acc - 9\n",
    "min_value = df['Acc'].min()\n",
    "max_value = df['Acc'].max()\n",
    "mean_value = df['Acc'].mean()\n",
    "median_value = df['Acc'].median()\n",
    "\n",
    "# Wyświetlanie wyników\n",
    "print(f\"Min: {min_value}\")\n",
    "print(f\"Max: {max_value}\")\n",
    "print(f\"Mean: {mean_value}\")\n",
    "print(f\"Median: {median_value}\")"
   ],
   "metadata": {
    "collapsed": false
   },
   "id": "bfc09ef51db2711",
   "execution_count": null
  },
  {
   "cell_type": "code",
   "outputs": [],
   "source": [
    "# Wyznaczanie indeksu dla wartości Acc = 1.6988190981163944 - 10\n",
    "index_value = df[df['Acc'] == 1.6988190981163944].index\n",
    "\n",
    "# Wyświetlanie wyniku\n",
    "print(f\"Index: {index_value}\")"
   ],
   "metadata": {
    "collapsed": false
   },
   "id": "80e0c0dc9fc69620",
   "execution_count": null
  }
 ],
 "metadata": {
  "kernelspec": {
   "display_name": "Python 3",
   "language": "python",
   "name": "python3"
  },
  "language_info": {
   "codemirror_mode": {
    "name": "ipython",
    "version": 2
   },
   "file_extension": ".py",
   "mimetype": "text/x-python",
   "name": "python",
   "nbconvert_exporter": "python",
   "pygments_lexer": "ipython2",
   "version": "2.7.6"
  }
 },
 "nbformat": 4,
 "nbformat_minor": 5
}
