{
 "cells": [
  {
   "cell_type": "markdown",
   "source": [],
   "metadata": {
    "collapsed": false
   },
   "id": "1c13670433dae1e3"
  },
  {
   "cell_type": "markdown",
   "source": [
    "LABORATORIUM 1 - ZADANIE 2\n",
    "IMIĘ i NAZWISKO: Michał Wójcik"
   ],
   "metadata": {
    "collapsed": false
   },
   "id": "a1030b0abe609b66"
  },
  {
   "cell_type": "code",
   "outputs": [],
   "source": [
    "# Zaimportowanie bibliotek\n",
    "import matplotlib.pyplot as plt\n",
    "import numpy as np\n",
    "import pandas as pd\n",
    "from scipy import signal"
   ],
   "metadata": {
    "collapsed": false
   },
   "id": "ff4fdfe2635a44c3",
   "execution_count": null
  },
  {
   "cell_type": "code",
   "outputs": [],
   "source": [
    "# Zdefiniowanie funkcji\n",
    "def load_and_scale_data(filename):\n",
    "    df = pd.read_csv(filename, names=['Acc_X', 'Acc_Y', 'Acc_Z'])\n",
    "    df['Acc_X'] = df['Acc_X'] / 64\n",
    "    df['Acc_Y'] = df['Acc_Y'] / 64\n",
    "    df['Acc_Z'] = df['Acc_Z'] / 64\n",
    "    return df\n",
    "\n",
    "def plot_accelerometer_data(df):\n",
    "    plt.figure(figsize=(10,6))\n",
    "    plt.plot(df['Acc_X'], label='Acc_X', color='red', marker='x', markevery=1)\n",
    "    plt.plot(df['Acc_Y'], label='Acc_Y', color='green', marker='x', markevery=1)\n",
    "    plt.plot(df['Acc_Z'], label='Acc_Z', color='blue', marker='x', markevery=1)\n",
    "    plt.title('brush_teeth_16_2.csv')\n",
    "    plt.xlabel('Nr próbki')\n",
    "    plt.ylabel('Acc X, Y, Z')\n",
    "    plt.legend()\n",
    "    plt.show()\n",
    "\n",
    "def add_acceleration_column(df):\n",
    "    df['Acc'] = np.sqrt(df['Acc_X']**2 + df['Acc_Y']**2 + df['Acc_Z']**2)\n",
    "    return df\n",
    "\n",
    "def plot_total_acceleration(df):\n",
    "    plt.figure(figsize=(10,6))\n",
    "    plt.plot(df['Acc'], label='Acc', color='black', marker='x', markevery=1)\n",
    "    plt.title('brush_teeth_16_2.csv')\n",
    "    plt.xlabel('Nr próbki')\n",
    "    plt.ylabel('|Acc|')\n",
    "    plt.legend()\n",
    "    plt.show()\n",
    "\n",
    "def print_acceleration_stats(df):\n",
    "    min_value = df['Acc'].min()\n",
    "    max_value = df['Acc'].max()\n",
    "    mean_value = df['Acc'].mean()\n",
    "    median_value = df['Acc'].median()\n",
    "    print(f\"Min: {min_value}\")\n",
    "    print(f\"Max: {max_value}\")\n",
    "    print(f\"Mean: {mean_value}\")\n",
    "    print(f\"Median: {median_value}\")\n",
    "\n",
    "def print_index_for_value(df, value):\n",
    "    index_value = df[df['Acc'] == value].index\n",
    "    print(f\"Index: {index_value}\")\n",
    "    \n",
    "def dataframe_to_arrays(df):\n",
    "    Acc_X = df['Acc_X'].to_numpy()\n",
    "    Acc_Y = df['Acc_Y'].to_numpy()\n",
    "    Acc_Z = df['Acc_Z'].to_numpy()\n",
    "    Acc = df['Acc'].to_numpy()\n",
    "    return Acc_X, Acc_Y, Acc_Z, Acc\n",
    "\n",
    "def zero_elements_below_threshold(*arrays, threshold=0.3):\n",
    "    # Przejście przez wszystkie tablice\n",
    "    for array in arrays:\n",
    "        # Przejście przez wszystkie elementy w tablicy\n",
    "        for i in range(len(array)):\n",
    "            # Sprawdzenie, czy wartość elementu jest mniejsza lub równa progu\n",
    "            if array[i] <= threshold:\n",
    "                # Zerowanie elementu\n",
    "                array[i] = 0\n",
    "\n",
    "# Tworzenie wykresu\n",
    "def filter_signal(signal_data):\n",
    "    # Wyznaczanie parametrów filtru\n",
    "    b, a = signal.ellip(4, 0.01, 50, 0.225)\n",
    "    \n",
    "    # Zastosowanie filtru do danych\n",
    "    filtered_signal = signal.filtfilt(b, a, signal_data, method=\"pad\", padlen=50)\n",
    "    \n",
    "    return filtered_signal\n",
    "\n",
    "def draw_filtered_signal(df):\n",
    "    plt.figure(figsize=(10,6))\n",
    "    plt.plot(df['Acc_Y'], label='Acc_Y', color='red', marker='x', markevery=1)\n",
    "    plt.plot(df['Acc_Y_Pad'], label='Acc_Y Pad', color='blue', marker='o', markevery=1)\n",
    "    plt.title('brush_teeth_16_2.csv')\n",
    "    plt.xlabel('Nr próbki')\n",
    "    plt.ylabel('Acc_Y, Acc_Y_Pad')\n",
    "    plt.legend()\n",
    "    plt.show()"
   ],
   "metadata": {
    "collapsed": false
   },
   "id": "580d0ce4f5929e65",
   "execution_count": null
  },
  {
   "cell_type": "code",
   "outputs": [],
   "source": [
    "# Wywołania funkcji\n",
    "df = load_and_scale_data('brush_teeth_16_2.csv')\n",
    "plot_accelerometer_data(df)\n",
    "df = add_acceleration_column(df)\n",
    "plot_total_acceleration(df)\n",
    "print_acceleration_stats(df)\n",
    "print_index_for_value(df, 1.6988190981163944)\n",
    "Acc_X, Acc_Y, Acc_Z, Acc = dataframe_to_arrays(df)\n",
    "zero_elements_below_threshold(Acc_X, Acc_Y, Acc_Z, Acc, threshold=0.5)\n",
    "df['Acc_Y_Pad'] = filter_signal(df['Acc_Y'])\n",
    "draw_filtered_signal(df)"
   ],
   "metadata": {
    "collapsed": true
   },
   "id": "initial_id",
   "execution_count": null
  }
 ],
 "metadata": {
  "kernelspec": {
   "display_name": "Python 3",
   "language": "python",
   "name": "python3"
  },
  "language_info": {
   "codemirror_mode": {
    "name": "ipython",
    "version": 2
   },
   "file_extension": ".py",
   "mimetype": "text/x-python",
   "name": "python",
   "nbconvert_exporter": "python",
   "pygments_lexer": "ipython2",
   "version": "2.7.6"
  }
 },
 "nbformat": 4,
 "nbformat_minor": 5
}
