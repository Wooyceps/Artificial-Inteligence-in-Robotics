{
 "cells": [
  {
   "cell_type": "code",
   "outputs": [],
   "source": [
    "# LABORATORIUM 3 - ZADANIE 2\n",
    "# IMIĘ i NAZWISKO: MICHAŁ WÓJCIK"
   ],
   "metadata": {
    "collapsed": false
   },
   "id": "a331b9f567b456e6"
  },
  {
   "cell_type": "code",
   "execution_count": null,
   "id": "initial_id",
   "metadata": {
    "collapsed": true
   },
   "outputs": [],
   "source": [
    "import pandas as pd\n",
    "import numpy as np\n",
    "import matplotlib.pyplot as plt\n",
    "from tensorflow.keras.models import Sequential\n",
    "from tensorflow.keras.layers import Dense, Input\n",
    "from tensorflow.keras.optimizers import Adam"
   ]
  },
  {
   "cell_type": "code",
   "outputs": [],
   "source": [
    "df0 = pd.read_csv('brush_hair_1_0.csv', names=['Acc_X', 'Acc_Y', 'Acc_Z'])\n",
    "df0.Acc_X /= 64\n",
    "df0.Acc_Y /= 64\n",
    "df0.Acc_Z /= 64\n",
    "\n",
    "df1 = pd.read_csv('brush_hair_1_1.csv', names=['Acc_X', 'Acc_Y', 'Acc_Z'])\n",
    "df1.Acc_X /= 64\n",
    "df1.Acc_Y /= 64\n",
    "df1.Acc_Z /= 64\n",
    "\n",
    "df2 = pd.read_csv('brush_hair_1_2.csv', names=['Acc_X', 'Acc_Y', 'Acc_Z'])\n",
    "df2.Acc_X /= 64\n",
    "df2.Acc_Y /= 64\n",
    "df2.Acc_Z /= 64\n",
    "\n",
    "df3 = pd.read_csv('brush_hair_1_3.csv', names=['Acc_X', 'Acc_Y', 'Acc_Z'])\n",
    "df3.Acc_X /= 64\n",
    "df3.Acc_Y /= 64\n",
    "df3.Acc_Z /= 64\n",
    "\n",
    "dfTrain = pd.concat([df0, df1, df2, df3], ignore_index=True)\n",
    "\n",
    "plt.figure()\n",
    "plt.plot(dfTrain.Acc_X, 'r+')\n",
    "plt.title('brush_hair_1_0-3.csv')\n",
    "plt.xlabel('Nr próbki')\n",
    "plt.ylabel('Acc X')"
   ],
   "metadata": {
    "collapsed": false
   },
   "id": "975ed39596f74b84",
   "execution_count": null
  },
  {
   "cell_type": "code",
   "outputs": [],
   "source": [
    "df4 = pd.read_csv('brush_hair_1_4.csv', names=['Acc_X', 'Acc_Y', 'Acc_Z'])\n",
    "df4.Acc_X /= 64\n",
    "df4.Acc_Y /= 64\n",
    "df4.Acc_Z /= 64\n",
    "\n",
    "dfTest = df4\n",
    "\n",
    "plt.figure()\n",
    "plt.plot(dfTest.Acc_X, 'r+')\n",
    "plt.title('brush_hair_1_4.csv')\n",
    "plt.xlabel('Nr próbki')\n",
    "plt.ylabel('Acc X')"
   ],
   "metadata": {
    "collapsed": false
   },
   "id": "c03741ff41f455e3",
   "execution_count": null
  },
  {
   "cell_type": "code",
   "outputs": [],
   "source": [
    "tmp = dfTrain.Acc_X.to_numpy()\n",
    "\n",
    "X = tmp[0:len(tmp)-1]\n",
    "Y = tmp[1:len(tmp)]\n",
    "\n",
    "plt.figure()\n",
    "plt.plot(X, Y, 'bo', label='Y', markersize=2)\n",
    "plt.title('Dane trenujące')\n",
    "plt.xlabel('X = Acc_X[:-1]')\n",
    "plt.ylabel('Y = Acc_X[1:]')\n",
    "plt.legend(['Y'])"
   ],
   "metadata": {
    "collapsed": false
   },
   "id": "342c3e5f99021948",
   "execution_count": null
  },
  {
   "cell_type": "code",
   "outputs": [],
   "source": [
    "tmp = dfTest.Acc_X.to_numpy()\n",
    "\n",
    "XTest = tmp[0:len(tmp)-1]\n",
    "YTest = tmp[1:len(tmp)]\n",
    "\n",
    "plt.figure()\n",
    "plt.plot(XTest, YTest, 'bo', label='YTest', markersize=2)\n",
    "plt.title('Dane testowe')\n",
    "plt.xlabel('X = Acc_X[:-1]')\n",
    "plt.ylabel('Y = Acc_X[1:]')\n",
    "plt.legend(['YTest'])"
   ],
   "metadata": {
    "collapsed": false
   },
   "id": "88c6e7c70bb89997",
   "execution_count": null
  },
  {
   "cell_type": "code",
   "outputs": [],
   "source": [
    "def make_neural_network(first_layer=5, second_layer=5, first_func='tanh', second_func='tanh',):\n",
    "    model = Sequential()\n",
    "    model.add(Input(shape=(1,)))\n",
    "    model.add(Dense(first_layer, activation=first_func))\n",
    "    model.add(Dense(second_layer, activation=second_func))\n",
    "    model.add(Dense(1, activation='linear'))\n",
    "    return model\n",
    "\n",
    "model_tanh = make_neural_network(5, 5, 'tanh', 'tanh')\n",
    "model_relu = make_neural_network(5, 5, 'relu', 'relu')\n",
    "model_sigmoid = make_neural_network(5, 5, 'sigmoid', 'sigmoid')"
   ],
   "metadata": {
    "collapsed": false
   },
   "id": "9c3ca21334742a65",
   "execution_count": null
  },
  {
   "cell_type": "code",
   "outputs": [],
   "source": [
    "optim_t = Adam(learning_rate=0.01,\n",
    "             beta_1=0.9,\n",
    "             beta_2=0.999,\n",
    "             epsilon=1e-07)\n",
    "optim_r = Adam(learning_rate=0.01,\n",
    "             beta_1=0.9,\n",
    "             beta_2=0.999,\n",
    "             epsilon=1e-07)\n",
    "optim_s = Adam(learning_rate=0.01,\n",
    "             beta_1=0.9,\n",
    "             beta_2=0.999,\n",
    "             epsilon=1e-07)\n",
    "model_tanh.compile(optimizer=optim_t, loss='mean_squared_error', metrics=['mean_squared_error'])\n",
    "model_relu.compile(optimizer=optim_r, loss='mean_squared_error', metrics=['mean_squared_error'])\n",
    "model_sigmoid.compile(optimizer=optim_s, loss='mean_squared_error', metrics=['mean_squared_error'])\n",
    "\n",
    "model = [model_tanh, model_relu, model_sigmoid]"
   ],
   "metadata": {
    "collapsed": false
   },
   "id": "710412cd2483bf09",
   "execution_count": null
  },
  {
   "cell_type": "code",
   "outputs": [],
   "source": [
    "hist_tanh = model_tanh.fit(X, Y, epochs=50, verbose=1, batch_size=100, validation_split=0.05)\n",
    "hist_relu = model_relu.fit(X, Y, epochs=50, verbose=1, batch_size=100, validation_split=0.05)\n",
    "hist_sigmoid = model_sigmoid.fit(X, Y, epochs=50, verbose=1, batch_size=100, validation_split=0.05)\n",
    "\n",
    "hist = [hist_tanh, hist_relu, hist_sigmoid]"
   ],
   "metadata": {
    "collapsed": false
   },
   "id": "d49cf69b78305c1",
   "execution_count": null
  },
  {
   "cell_type": "code",
   "outputs": [],
   "source": [
    "for hist in hist:\n",
    "    plt.figure()\n",
    "    plt.plot(hist.history['loss'], '-g', label='loss')\n",
    "    plt.plot(hist.history['val_loss'], '-r', label='val_loss')\n",
    "    plt.title('model_tanh loss') if hist == hist_tanh else None\n",
    "    plt.title('model_relu loss') if hist == hist_relu else None\n",
    "    plt.title('model_sigmoid loss') if hist == hist_sigmoid else None\n",
    "    plt.ylabel('loss, val_loss')\n",
    "    plt.xlabel('epoch')\n",
    "    plt.legend(['loss', 'val_loss'])"
   ],
   "metadata": {
    "collapsed": false
   },
   "id": "7137331e2676bbc0",
   "execution_count": null
  },
  {
   "cell_type": "code",
   "outputs": [],
   "source": [
    "YTestPred = [model.predict(XTest) for model in model]"
   ],
   "metadata": {
    "collapsed": false
   },
   "id": "af2ed9422f8ce877",
   "execution_count": null
  },
  {
   "cell_type": "code",
   "outputs": [],
   "source": [
    "for idx, ypred in enumerate(YTestPred):\n",
    "    plt.figure()\n",
    "    plt.plot(YTest, 'b+', label='Y', markersize=4)\n",
    "    plt.plot(ypred, 'r+', label='YPred', markersize=4)\n",
    "    plt.xlabel('Nr próbki')\n",
    "    plt.ylabel('Acc X')\n",
    "    plt.title('brush_hair_1_4.csv')\n",
    "    plt.legend(['Acc_X', 'Acc_X model_tanh']) if idx == 0 else None\n",
    "    plt.legend(['Acc_X', 'Acc_X model_relu']) if idx == 1 else None\n",
    "    plt.legend(['Acc_X', 'Acc_X model_sigmoid']) if idx == 2 else None"
   ],
   "metadata": {
    "collapsed": false
   },
   "id": "dfb113b012f20b66",
   "execution_count": null
  },
  {
   "cell_type": "code",
   "outputs": [],
   "source": [
    "residuals_t = YTest - YTestPred[0]\n",
    "residuals_r = YTest - YTestPred[1]\n",
    "residuals_s = YTest - YTestPred[2]\n",
    "\n",
    "residuals = [residuals_t, residuals_r, residuals_s]\n",
    "\n",
    "counts_t, bins_t = np.histogram(residuals_t, bins=20)\n",
    "counts_r, bins_r = np.histogram(residuals_r, bins=20)\n",
    "counts_s, bins_s = np.histogram(residuals_s, bins=20)\n",
    "\n",
    "counts = [counts_t, counts_r, counts_s]\n",
    "bins = [bins_t, bins_r, bins_s]\n",
    "\n",
    "for i in range(len(residuals)):\n",
    "    plt.figure()\n",
    "    plt.hist(bins[i][:-1], bins[i], weights=counts[i], edgecolor='black', linewidth=1, histtype='stepfilled', rwidth=0.8)\n",
    "    plt.title('Histogram reszt modelu dla danych testowych')\n",
    "    plt.xlabel('Wartośc reszty z modelu')\n",
    "    plt.ylabel('Częstość występowania')\n",
    "    plt.legend(['model_tanh']) if i == 0 else None\n",
    "    plt.legend(['model_relu']) if i == 1 else None\n",
    "    plt.legend(['model_sigmoid']) if i == 2 else None\n",
    "    plt.show()"
   ],
   "metadata": {
    "collapsed": false
   },
   "id": "6f854f0b592b6187",
   "execution_count": null
  },
  {
   "cell_type": "code",
   "outputs": [],
   "source": [
    "def mape(yreal, ypred):\n",
    "    return float(100/len(yreal) * np.sum(np.abs((yreal - ypred) / yreal)))\n",
    "\n",
    "\n",
    "def mmape(yreal, ypred):\n",
    "    return float(100/len(yreal) * np.sum(np.abs((yreal - ypred) / (np.max(yreal)-np.min(yreal)))))\n",
    "\n",
    "\n",
    "def rmse(yreal, ypred):\n",
    "    return np.sqrt((np.sum((yreal - ypred) ** 2))/len(yreal))\n",
    "\n",
    "\n",
    "def nrmse(yreal, ypred):\n",
    "    return np.sqrt((np.sum((yreal - ypred) ** 2))/len(yreal))/np.std(yreal)\n",
    "\n",
    "\n",
    "def aic(yreal, mmape, params):\n",
    "    return len(yreal) * np.log(mmape) + 2 * params\n",
    "\n",
    "\n",
    "def bic(yreal, mmape, params):\n",
    "    return len(yreal) * np.log(mmape) + params * np.log(len(yreal))\n",
    "\n",
    "\n",
    "for idx, ypred in enumerate(YTestPred):         # występuje błąd dzielenia przez zero, przez co nie wszystko zostaje wyświetlone.\n",
    "    mape = mape(YTest, ypred)                   # funkcje są zaokdowane identycznie jak w zadaniu 1\n",
    "    mmape = mmape(YTest, ypred)\n",
    "    rmse = rmse(YTest, ypred)\n",
    "    nrmsd = nrmse(YTest, ypred)\n",
    "    aic = aic(YTest, mmape, model[idx].count_params())\n",
    "    bic = bic(YTest, mmape, model[idx].count_params())\n",
    "    \n",
    "    type = 'model_tanh' if idx == 0 else 'model_relu' if idx == 1 else 'model_sigmoid'\n",
    "    \n",
    "    print(f'\\n\\n{type}\\n:')\n",
    "    print(f'MAPE: {mape}')\n",
    "    print(f'MMAPE: {mmape}')\n",
    "    print(f'RMSE: {rmse}')\n",
    "    print(f'NRMSE: {nrmsd}')\n",
    "    print(f'AIC: {aic}')\n",
    "    print(f'BIC: {bic}')"
   ],
   "metadata": {
    "collapsed": false
   },
   "id": "97fa05f3ca933cee",
   "execution_count": null
  }
 ],
 "metadata": {
  "kernelspec": {
   "display_name": "Python 3",
   "language": "python",
   "name": "python3"
  },
  "language_info": {
   "codemirror_mode": {
    "name": "ipython",
    "version": 2
   },
   "file_extension": ".py",
   "mimetype": "text/x-python",
   "name": "python",
   "nbconvert_exporter": "python",
   "pygments_lexer": "ipython2",
   "version": "2.7.6"
  }
 },
 "nbformat": 4,
 "nbformat_minor": 5
}
